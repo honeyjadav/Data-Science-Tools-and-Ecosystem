{
 "cells": [
  {
   "cell_type": "markdown",
   "id": "3c1af7d3-5581-44af-8b1b-d32d6441d5ad",
   "metadata": {},
   "source": [
    "# Data Science Tools and Ecosystem"
   ]
  },
  {
   "cell_type": "markdown",
   "id": "d54f4370-bcdb-4a84-acb5-ed9b38ae8964",
   "metadata": {},
   "source": [
    "In this notebook, Data Science Tools and Ecosystem are summarized."
   ]
  },
  {
   "cell_type": "markdown",
   "id": "396a8dbf-b8c3-4600-b84f-0ffa7b6672ff",
   "metadata": {},
   "source": [
    "**Objectives:**\n",
    "+ List popular languages for Data Science\n",
    "+ jupyter notebook\n",
    "+ listing librarys opensource\n",
    "+ etc."
   ]
  },
  {
   "cell_type": "markdown",
   "id": "1e0e8736-12bb-4343-b41c-e7ea7c9884f2",
   "metadata": {},
   "source": [
    "Some of the popular languages that Data Scientists use are:\n",
    "1. R\n",
    "2. PYTHON\n",
    "3. JULIA\n",
    "4. RUBY\n",
    "5. JAVASCRIPT"
   ]
  },
  {
   "cell_type": "markdown",
   "id": "9831f828-be51-4893-b38f-8882b99b26a2",
   "metadata": {},
   "source": [
    "Some of the commonly used libraries used by Data Scientists include:\n",
    "1. numpy\n",
    "2. scikit-learn\n",
    "3. pandas"
   ]
  },
  {
   "cell_type": "markdown",
   "id": "11683e04-3ba0-4e3f-b8a7-07bae67ab4b0",
   "metadata": {},
   "source": [
    "| Data Science Tools |\n",
    "| ------------------ |\n",
    "| Jupyter Notebooks  |\n",
    "| Anaconda |\n",
    "| Rstudio |"
   ]
  },
  {
   "cell_type": "markdown",
   "id": "3cf9a456-7b68-4e01-8d63-f93e2e52ef2f",
   "metadata": {},
   "source": [
    "### Below are a few examples of evaluating arithmetic expressions in Python"
   ]
  },
  {
   "cell_type": "code",
   "execution_count": 3,
   "id": "8c3dbc68-f3fe-43f6-851c-f1402213cdd9",
   "metadata": {},
   "outputs": [
    {
     "data": {
      "text/plain": [
       "17"
      ]
     },
     "execution_count": 3,
     "metadata": {},
     "output_type": "execute_result"
    }
   ],
   "source": [
    "#This a simple arithmetic expression to mutiply then add integers\n",
    "(3*4)+5"
   ]
  },
  {
   "cell_type": "code",
   "execution_count": 6,
   "id": "40de5d20-8f4c-4fc0-b33d-032c20dc8fbb",
   "metadata": {},
   "outputs": [
    {
     "name": "stdout",
     "output_type": "stream",
     "text": [
      "3.3333333333333335\n"
     ]
    }
   ],
   "source": [
    "minutes=200\n",
    "#This will convert 200 minutes to hours by diving by 60\n",
    "hour=(200/60)\n",
    "print(hour)"
   ]
  },
  {
   "cell_type": "markdown",
   "id": "aad295d0-c260-4daf-8128-6600466b8999",
   "metadata": {},
   "source": [
    "## Author\n",
    "Honey Jadav"
   ]
  },
  {
   "cell_type": "code",
   "execution_count": null,
   "id": "d9bbf621-9836-46f1-be08-4ff67d4e5102",
   "metadata": {},
   "outputs": [],
   "source": []
  }
 ],
 "metadata": {
  "kernelspec": {
   "display_name": "Python [conda env:.conda-course1]",
   "language": "python",
   "name": "conda-env-.conda-course1-py"
  },
  "language_info": {
   "codemirror_mode": {
    "name": "ipython",
    "version": 3
   },
   "file_extension": ".py",
   "mimetype": "text/x-python",
   "name": "python",
   "nbconvert_exporter": "python",
   "pygments_lexer": "ipython3",
   "version": "3.13.5"
  }
 },
 "nbformat": 4,
 "nbformat_minor": 5
}
